{
 "cells": [
  {
   "cell_type": "code",
   "execution_count": 71,
   "metadata": {},
   "outputs": [],
   "source": [
    "from random import SystemRandom\n",
    "from Crypto.Util import number\n",
    "import gensafeprime\n",
    "rand = SystemRandom()"
   ]
  },
  {
   "cell_type": "markdown",
   "metadata": {},
   "source": [
    "### Hashing Function based on DLP "
   ]
  },
  {
   "cell_type": "code",
   "execution_count": 72,
   "metadata": {},
   "outputs": [],
   "source": [
    "def Hashing(x,y,k):\n",
    "    global g,p\n",
    "    h = pow(g,x+k*y,p)\n",
    "    return h"
   ]
  },
  {
   "cell_type": "markdown",
   "metadata": {},
   "source": [
    "### Prover"
   ]
  },
  {
   "cell_type": "code",
   "execution_count": 73,
   "metadata": {},
   "outputs": [],
   "source": [
    "class Alice():\n",
    "    def __init__(self,g,p,n):\n",
    "        self.private_key = rand.getrandbits(n) ## x\n",
    "        self.public_key = pow(g,self.private_key,p) ## g^x % p\n",
    "        self.g = g\n",
    "\n",
    "    def Signing(self,p,n):\n",
    "        self.r = rand.getrandbits(n) ## r\n",
    "        t = pow(self.g,self.r,p) ## g ^ r % p\n",
    "        c = Hashing(p,self.g,self.public_key) ## H(p,g,y)\n",
    "        z = c*self.private_key+self.r ## x*(H(p,g,y))+r\n",
    "\n",
    "        return (t,z)"
   ]
  },
  {
   "cell_type": "markdown",
   "metadata": {},
   "source": [
    "### Verifier"
   ]
  },
  {
   "cell_type": "code",
   "execution_count": 74,
   "metadata": {},
   "outputs": [],
   "source": [
    "class Bob():\n",
    "    def __init__(self,g,y,p):\n",
    "        self.public_key = y\n",
    "        self.g = g\n",
    "\n",
    "    def Verifying(self,p,z,t):\n",
    "        c = Hashing(p,self.g,self.public_key)\n",
    "        X = pow(self.g,z,p)\n",
    "        Y = ((pow(self.public_key,c,p))*(t%p))%p\n",
    "\n",
    "        if X == Y:\n",
    "            return True\n",
    "        else:\n",
    "            return False"
   ]
  },
  {
   "cell_type": "code",
   "execution_count": 75,
   "metadata": {},
   "outputs": [
    {
     "name": "stdout",
     "output_type": "stream",
     "text": [
      "Length of prime 256\n",
      "Prime p = 89916190805237769988117778258331552932696307059224503969651197688320123175479\n",
      "Check if p is prime: True\n",
      "Check if p is safe prime: True\n",
      "Generator g = 10937403601054608255972638425797843028298023824243990974392215255038146904143\n",
      "Message m = 87575235328226446133852634100392648165940118584969282010635367604935976290964\n"
     ]
    }
   ],
   "source": [
    "n = 256\n",
    "print(\"Length of prime \"+str(n))\n",
    "p = gensafeprime.generate(n)\n",
    "print(\"Prime p = \"+str(p))\n",
    "print(\"Check if p is prime: \"+str(True if number.isPrime(p) == 1 else False))\n",
    "\n",
    "q = (p-1)//2\n",
    "print(\"Check if p is safe prime: \"+str(True if number.isPrime(q) == 1 else False))\n",
    "\n",
    "t = 1\n",
    "while t == 1:\n",
    "    h = number.getRandomRange(2,p-2)\n",
    "    t = pow(h,2,p)\n",
    "\n",
    "g = h\n",
    "\n",
    "print(\"Generator g = \"+str(g))\n",
    "\n",
    "M = rand.getrandbits(n)\n",
    "\n",
    "print(\"Message m = \"+str(M))"
   ]
  },
  {
   "cell_type": "code",
   "execution_count": 76,
   "metadata": {},
   "outputs": [
    {
     "name": "stdout",
     "output_type": "stream",
     "text": [
      "True\n"
     ]
    }
   ],
   "source": [
    "A = Alice(g,p,n)\n",
    "B = Bob(g,A.public_key,p)\n",
    "\n",
    "t,z = A.Signing(p,n)\n",
    "print(B.Verifying(p,z,t))"
   ]
  }
 ],
 "metadata": {
  "kernelspec": {
   "display_name": "Python 3",
   "language": "python",
   "name": "python3"
  },
  "language_info": {
   "codemirror_mode": {
    "name": "ipython",
    "version": 3
   },
   "file_extension": ".py",
   "mimetype": "text/x-python",
   "name": "python",
   "nbconvert_exporter": "python",
   "pygments_lexer": "ipython3",
   "version": "3.6.7"
  }
 },
 "nbformat": 4,
 "nbformat_minor": 4
}
