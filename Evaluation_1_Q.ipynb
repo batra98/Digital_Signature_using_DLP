{
 "cells": [
  {
   "cell_type": "code",
   "execution_count": 12,
   "metadata": {},
   "outputs": [],
   "source": [
    "from random import SystemRandom\n",
    "from Crypto.Util import number\n",
    "import gensafeprime\n",
    "rand = SystemRandom()"
   ]
  },
  {
   "cell_type": "markdown",
   "metadata": {},
   "source": [
    "### Hashing Function based on DLP "
   ]
  },
  {
   "cell_type": "code",
   "execution_count": 13,
   "metadata": {},
   "outputs": [],
   "source": [
    "def Hashing(x,y,k):\n",
    "    global g,p\n",
    "    h = pow(g,x+k*y,p) ## H(x,y) = g^(x+ky)%p\n",
    "    return h"
   ]
  },
  {
   "cell_type": "markdown",
   "metadata": {},
   "source": [
    "### Prover"
   ]
  },
  {
   "cell_type": "code",
   "execution_count": 14,
   "metadata": {},
   "outputs": [],
   "source": [
    "class Alice():\n",
    "    def __init__(self,g,p,n):\n",
    "        self.private_key = rand.getrandbits(n) ## x\n",
    "        self.public_key = pow(g,self.private_key,p) ## g^x % p\n",
    "        self.g = g\n",
    "\n",
    "    def Signing(self,p,n):\n",
    "        self.r = rand.getrandbits(n) ## r\n",
    "        t = pow(self.g,self.r,p) ## g ^ r % p\n",
    "        c = Hashing(p,self.g,self.public_key) ## H(p,g,y)\n",
    "        z = c*self.private_key+self.r ## x*(H(p,g,y))+r\n",
    "\n",
    "        return (t,z)"
   ]
  },
  {
   "cell_type": "markdown",
   "metadata": {},
   "source": [
    "### Verifier"
   ]
  },
  {
   "cell_type": "code",
   "execution_count": 15,
   "metadata": {},
   "outputs": [],
   "source": [
    "class Bob():\n",
    "    def __init__(self,g,y,p):\n",
    "        self.public_key = y\n",
    "        self.g = g\n",
    "\n",
    "    def Verifying(self,p,z,t):\n",
    "        c = Hashing(p,self.g,self.public_key)\n",
    "        X = pow(self.g,z,p)\n",
    "        Y = ((pow(self.public_key,c,p))*(t%p))%p ## g^z %p and y^c*t %p\n",
    "\n",
    "        if X == Y:\n",
    "            return True\n",
    "        else:\n",
    "            return False"
   ]
  },
  {
   "cell_type": "code",
   "execution_count": 20,
   "metadata": {},
   "outputs": [
    {
     "name": "stdout",
     "output_type": "stream",
     "text": [
      "Length of prime 1024\n",
      "Prime p = 161701777336853184650039367458278239954190134476146924582369750044734829104010525498839953411959298996584714897951258271752607474395431113388782675728934559220052361204424315175871407736755928601698376799153405559695004735397442576171520815948486445320018603423526791596432240112392468084921381492990880438319\n",
      "Check if p is prime: True\n",
      "Check if p is safe prime: True\n",
      "Generator g = 13741572373014491739277765893238061253015432980540253029565823461268527802081852559726286092250118882471186511333712302019542947076335824375351503258060130861196871892069285574537219232995433874744389395342432112899259233837052293766233449362850143457369024287381848559707249006554206317680222573798821690490\n",
      "Message m = 74982352964683591965166040506331291051367254456259661839215465216064793260223896025067902701563026508778251632122151454844389406006772466605963149148502009025330470656799976663689265127948148658141968959727815735192840749379823606056135541030314615786931359706659322993427502569750758122735371803572752364375\n"
     ]
    }
   ],
   "source": [
    "n = 1024\n",
    "print(\"Length of prime \"+str(n))\n",
    "p = gensafeprime.generate(n)\n",
    "print(\"Prime p = \"+str(p))\n",
    "print(\"Check if p is prime: \"+str(True if number.isPrime(p) == 1 else False))\n",
    "\n",
    "q = (p-1)//2\n",
    "print(\"Check if p is safe prime: \"+str(True if number.isPrime(q) == 1 else False))\n",
    "\n",
    "t = 1\n",
    "while t == 1:\n",
    "    h = number.getRandomRange(2,p-2)\n",
    "    t = pow(h,2,p)\n",
    "\n",
    "g = h\n",
    "\n",
    "print(\"Generator g = \"+str(g))\n",
    "\n",
    "M = rand.getrandbits(n)\n",
    "\n",
    "print(\"Message m = \"+str(M))"
   ]
  },
  {
   "cell_type": "code",
   "execution_count": 21,
   "metadata": {},
   "outputs": [
    {
     "name": "stdout",
     "output_type": "stream",
     "text": [
      "True\n"
     ]
    }
   ],
   "source": [
    "A = Alice(g,p,n)\n",
    "B = Bob(g,A.public_key,p)\n",
    "\n",
    "t,z = A.Signing(p,n)\n",
    "print(B.Verifying(p,z,t))\n",
    "# print(B.Verifying(p,gensafeprime.generate(n),t))"
   ]
  }
 ],
 "metadata": {
  "kernelspec": {
   "display_name": "Python 3",
   "language": "python",
   "name": "python3"
  },
  "language_info": {
   "codemirror_mode": {
    "name": "ipython",
    "version": 3
   },
   "file_extension": ".py",
   "mimetype": "text/x-python",
   "name": "python",
   "nbconvert_exporter": "python",
   "pygments_lexer": "ipython3",
   "version": "3.6.7"
  }
 },
 "nbformat": 4,
 "nbformat_minor": 4
}
