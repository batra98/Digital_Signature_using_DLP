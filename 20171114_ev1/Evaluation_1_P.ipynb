{
 "cells": [
  {
   "cell_type": "code",
   "execution_count": 1,
   "metadata": {},
   "outputs": [],
   "source": [
    "from random import SystemRandom\n",
    "from Crypto.Util import number\n",
    "import gensafeprime\n",
    "rand = SystemRandom()"
   ]
  },
  {
   "cell_type": "markdown",
   "metadata": {},
   "source": [
    "### Hashing Function based on DLP "
   ]
  },
  {
   "cell_type": "code",
   "execution_count": 2,
   "metadata": {},
   "outputs": [],
   "source": [
    "def Hashing(x,y,k):\n",
    "    global g,p\n",
    "    h = pow(g,x+k*y,p) \n",
    "    return h"
   ]
  },
  {
   "cell_type": "markdown",
   "metadata": {},
   "source": [
    "### Prover"
   ]
  },
  {
   "cell_type": "code",
   "execution_count": 3,
   "metadata": {},
   "outputs": [],
   "source": [
    "class Alice():\n",
    "    def __init__(self,g,p,n):\n",
    "        self.private_key = rand.getrandbits(n) ## x\n",
    "        self.public_key = pow(g,self.private_key,p) ## g^x % p\n",
    "        self.g = g\n",
    "\n",
    "    def Signing(self,p,n):\n",
    "        self.r = rand.getrandbits(n) ## r\n",
    "        t = pow(self.g,self.r,p) ## g ^ r % p\n",
    "        c = Hashing(p,self.g,self.public_key) ## H(p,g,y)\n",
    "        z = c*self.private_key+self.r ## x*(H(p,g,y))+r\n",
    "\n",
    "        return (t,z)"
   ]
  },
  {
   "cell_type": "markdown",
   "metadata": {},
   "source": [
    "### Verifier"
   ]
  },
  {
   "cell_type": "code",
   "execution_count": 4,
   "metadata": {},
   "outputs": [],
   "source": [
    "class Bob():\n",
    "    def __init__(self,g,y,p):\n",
    "        self.public_key = y\n",
    "        self.g = g\n",
    "\n",
    "    def Verifying(self,p,z,t):\n",
    "        c = Hashing(p,self.g,self.public_key)\n",
    "        X = pow(self.g,z,p)\n",
    "        Y = ((pow(self.public_key,c,p))*(t%p))%p ## g^z %p and y^c*t %p\n",
    "\n",
    "        if X == Y:\n",
    "            return True\n",
    "        else:\n",
    "            return False"
   ]
  },
  {
   "cell_type": "code",
   "execution_count": 10,
   "metadata": {},
   "outputs": [
    {
     "name": "stdout",
     "output_type": "stream",
     "text": [
      "Length of prime 1024\n",
      "Prime p = 166456519764526843710369006449605009475184134083011134181965137484780639885659995749015850328686548845376124321919724748963759614315154149646279570783021976559164466497091250508305450030205116664420537188057987573529769351675609237934641157463577962885847112169192104197222170966800733794183848028286895909327\n",
      "Check if p is prime: True\n",
      "Check if p is safe prime: True\n",
      "Generator g = 48443621098118626011423660417435630760357556288881813369107734890738050897544450120885365274056505825475929486111965333145278531624836124934955516956379224657216389874570799900693627368451821281004297809147823548032056926115993135501237711863075061942421703617103324483268151772280446827397340568009472637790\n",
      "Message m = 92126948846742374773891710965934890287127370188478346481215007399917876809462971901198510699794395451465393283547535434079566184414196580572722060765216081020799438899746717267625465828607877346263984643003258330142470157719034622586245210229839059124211912413199774373397023463310259990322412982525217741786\n"
     ]
    }
   ],
   "source": [
    "n = 1024\n",
    "print(\"Length of prime \"+str(n))\n",
    "if (n==2):\n",
    "    p = 2\n",
    "    g = 1\n",
    "elif (n==3):\n",
    "    p = 5\n",
    "    g = 2\n",
    "elif (n==4):\n",
    "    p = 11\n",
    "    g = 2\n",
    "elif (n==5):\n",
    "    p = 23\n",
    "    g = 11\n",
    "else:\n",
    "    p = gensafeprime.generate(n)\n",
    "    q = (p-1)//2\n",
    "\n",
    "    t = 1\n",
    "    while t == 1:\n",
    "        h = number.getRandomRange(2,p-2)\n",
    "        t = pow(h,2,p)\n",
    "\n",
    "    g = h\n",
    "print(\"Prime p = \"+str(p))\n",
    "print(\"Check if p is prime: \"+str(True if number.isPrime(p) == 1 else False))\n",
    "\n",
    "q = (p-1)//2\n",
    "print(\"Check if p is safe prime: \"+str(True if number.isPrime(q) == 1 else False))\n",
    "\n",
    "t = 1\n",
    "while t == 1:\n",
    "    h = number.getRandomRange(2,p-2)\n",
    "    t = pow(h,2,p)\n",
    "\n",
    "g = h\n",
    "\n",
    "print(\"Generator g = \"+str(g))\n",
    "\n",
    "M = rand.getrandbits(n)\n",
    "\n",
    "print(\"Message m = \"+str(M))"
   ]
  },
  {
   "cell_type": "code",
   "execution_count": 8,
   "metadata": {},
   "outputs": [
    {
     "name": "stdout",
     "output_type": "stream",
     "text": [
      "True\n"
     ]
    }
   ],
   "source": [
    "A = Alice(g,p,n)\n",
    "B = Bob(g,A.public_key,p)\n",
    "\n",
    "t,z = A.Signing(p,n)\n",
    "print(B.Verifying(p,z,t))\n",
    "# print(B.Verifying(p,gensafeprime.generate(n),t))"
   ]
  }
 ],
 "metadata": {
  "kernelspec": {
   "display_name": "Python 3",
   "language": "python",
   "name": "python3"
  },
  "language_info": {
   "codemirror_mode": {
    "name": "ipython",
    "version": 3
   },
   "file_extension": ".py",
   "mimetype": "text/x-python",
   "name": "python",
   "nbconvert_exporter": "python",
   "pygments_lexer": "ipython3",
   "version": "3.6.7"
  }
 },
 "nbformat": 4,
 "nbformat_minor": 4
}
